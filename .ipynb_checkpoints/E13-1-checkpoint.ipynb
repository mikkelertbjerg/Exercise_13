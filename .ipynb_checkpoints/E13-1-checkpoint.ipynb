{
 "cells": [
  {
   "cell_type": "markdown",
   "metadata": {},
   "source": [
    "# E13-1 Recommender Systems"
   ]
  },
  {
   "cell_type": "markdown",
   "metadata": {},
   "source": [
    "## 1. Simple Recommender"
   ]
  },
  {
   "cell_type": "code",
   "execution_count": 1,
   "metadata": {},
   "outputs": [],
   "source": [
    "# Import libraries\n",
    "import pandas as pd\n",
    "import numpy as np\n",
    "import matplotlib.pyplot as plt\n",
    "%matplotlib inline"
   ]
  },
  {
   "cell_type": "markdown",
   "metadata": {},
   "source": [
    "### 1.1. Data Preparation"
   ]
  },
  {
   "cell_type": "markdown",
   "metadata": {},
   "source": [
    "Pandas reads data files and loads the data into datasets. <br>The data type of the columns - dtype can be specified before the reading, or guessed by Pandas. <br>Type can be determined only after the whole file is read. As it takes lots of memory, parameter <b>low_memory=False</b> is needed."
   ]
  },
  {
   "cell_type": "code",
   "execution_count": 2,
   "metadata": {},
   "outputs": [],
   "source": [
    "# Load data from file\n",
    "data = pd.read_csv('../soft2020spring-AI/docs/data/movies_metadata/movies_metadata.csv', sep=',', low_memory=False)\n",
    "# data = pd.read_csv('http://www.kaggle.com/rounakbanik/the-movie-dataset')"
   ]
  },
  {
   "cell_type": "code",
   "execution_count": 3,
   "metadata": {},
   "outputs": [
    {
     "data": {
      "text/plain": [
       "(45466, 24)"
      ]
     },
     "execution_count": 3,
     "metadata": {},
     "output_type": "execute_result"
    }
   ],
   "source": [
    "# Check the size of data\n",
    "data.shape"
   ]
  },
  {
   "cell_type": "code",
   "execution_count": 4,
   "metadata": {},
   "outputs": [
    {
     "data": {
      "text/html": [
       "<div>\n",
       "<style scoped>\n",
       "    .dataframe tbody tr th:only-of-type {\n",
       "        vertical-align: middle;\n",
       "    }\n",
       "\n",
       "    .dataframe tbody tr th {\n",
       "        vertical-align: top;\n",
       "    }\n",
       "\n",
       "    .dataframe thead th {\n",
       "        text-align: right;\n",
       "    }\n",
       "</style>\n",
       "<table border=\"1\" class=\"dataframe\">\n",
       "  <thead>\n",
       "    <tr style=\"text-align: right;\">\n",
       "      <th></th>\n",
       "      <th>adult</th>\n",
       "      <th>belongs_to_collection</th>\n",
       "      <th>budget</th>\n",
       "      <th>genres</th>\n",
       "      <th>homepage</th>\n",
       "      <th>id</th>\n",
       "      <th>imdb_id</th>\n",
       "      <th>original_language</th>\n",
       "      <th>original_title</th>\n",
       "      <th>overview</th>\n",
       "      <th>...</th>\n",
       "      <th>release_date</th>\n",
       "      <th>revenue</th>\n",
       "      <th>runtime</th>\n",
       "      <th>spoken_languages</th>\n",
       "      <th>status</th>\n",
       "      <th>tagline</th>\n",
       "      <th>title</th>\n",
       "      <th>video</th>\n",
       "      <th>vote_average</th>\n",
       "      <th>vote_count</th>\n",
       "    </tr>\n",
       "  </thead>\n",
       "  <tbody>\n",
       "    <tr>\n",
       "      <th>0</th>\n",
       "      <td>False</td>\n",
       "      <td>{'id': 10194, 'name': 'Toy Story Collection', ...</td>\n",
       "      <td>30000000</td>\n",
       "      <td>[{'id': 16, 'name': 'Animation'}, {'id': 35, '...</td>\n",
       "      <td>http://toystory.disney.com/toy-story</td>\n",
       "      <td>862</td>\n",
       "      <td>tt0114709</td>\n",
       "      <td>en</td>\n",
       "      <td>Toy Story</td>\n",
       "      <td>Led by Woody, Andy's toys live happily in his ...</td>\n",
       "      <td>...</td>\n",
       "      <td>1995-10-30</td>\n",
       "      <td>373554033.0</td>\n",
       "      <td>81.0</td>\n",
       "      <td>[{'iso_639_1': 'en', 'name': 'English'}]</td>\n",
       "      <td>Released</td>\n",
       "      <td>NaN</td>\n",
       "      <td>Toy Story</td>\n",
       "      <td>False</td>\n",
       "      <td>7.7</td>\n",
       "      <td>5415.0</td>\n",
       "    </tr>\n",
       "    <tr>\n",
       "      <th>1</th>\n",
       "      <td>False</td>\n",
       "      <td>NaN</td>\n",
       "      <td>65000000</td>\n",
       "      <td>[{'id': 12, 'name': 'Adventure'}, {'id': 14, '...</td>\n",
       "      <td>NaN</td>\n",
       "      <td>8844</td>\n",
       "      <td>tt0113497</td>\n",
       "      <td>en</td>\n",
       "      <td>Jumanji</td>\n",
       "      <td>When siblings Judy and Peter discover an encha...</td>\n",
       "      <td>...</td>\n",
       "      <td>1995-12-15</td>\n",
       "      <td>262797249.0</td>\n",
       "      <td>104.0</td>\n",
       "      <td>[{'iso_639_1': 'en', 'name': 'English'}, {'iso...</td>\n",
       "      <td>Released</td>\n",
       "      <td>Roll the dice and unleash the excitement!</td>\n",
       "      <td>Jumanji</td>\n",
       "      <td>False</td>\n",
       "      <td>6.9</td>\n",
       "      <td>2413.0</td>\n",
       "    </tr>\n",
       "    <tr>\n",
       "      <th>2</th>\n",
       "      <td>False</td>\n",
       "      <td>{'id': 119050, 'name': 'Grumpy Old Men Collect...</td>\n",
       "      <td>0</td>\n",
       "      <td>[{'id': 10749, 'name': 'Romance'}, {'id': 35, ...</td>\n",
       "      <td>NaN</td>\n",
       "      <td>15602</td>\n",
       "      <td>tt0113228</td>\n",
       "      <td>en</td>\n",
       "      <td>Grumpier Old Men</td>\n",
       "      <td>A family wedding reignites the ancient feud be...</td>\n",
       "      <td>...</td>\n",
       "      <td>1995-12-22</td>\n",
       "      <td>0.0</td>\n",
       "      <td>101.0</td>\n",
       "      <td>[{'iso_639_1': 'en', 'name': 'English'}]</td>\n",
       "      <td>Released</td>\n",
       "      <td>Still Yelling. Still Fighting. Still Ready for...</td>\n",
       "      <td>Grumpier Old Men</td>\n",
       "      <td>False</td>\n",
       "      <td>6.5</td>\n",
       "      <td>92.0</td>\n",
       "    </tr>\n",
       "  </tbody>\n",
       "</table>\n",
       "<p>3 rows × 24 columns</p>\n",
       "</div>"
      ],
      "text/plain": [
       "   adult                              belongs_to_collection    budget  \\\n",
       "0  False  {'id': 10194, 'name': 'Toy Story Collection', ...  30000000   \n",
       "1  False                                                NaN  65000000   \n",
       "2  False  {'id': 119050, 'name': 'Grumpy Old Men Collect...         0   \n",
       "\n",
       "                                              genres  \\\n",
       "0  [{'id': 16, 'name': 'Animation'}, {'id': 35, '...   \n",
       "1  [{'id': 12, 'name': 'Adventure'}, {'id': 14, '...   \n",
       "2  [{'id': 10749, 'name': 'Romance'}, {'id': 35, ...   \n",
       "\n",
       "                               homepage     id    imdb_id original_language  \\\n",
       "0  http://toystory.disney.com/toy-story    862  tt0114709                en   \n",
       "1                                   NaN   8844  tt0113497                en   \n",
       "2                                   NaN  15602  tt0113228                en   \n",
       "\n",
       "     original_title                                           overview  ...  \\\n",
       "0         Toy Story  Led by Woody, Andy's toys live happily in his ...  ...   \n",
       "1           Jumanji  When siblings Judy and Peter discover an encha...  ...   \n",
       "2  Grumpier Old Men  A family wedding reignites the ancient feud be...  ...   \n",
       "\n",
       "  release_date      revenue runtime  \\\n",
       "0   1995-10-30  373554033.0    81.0   \n",
       "1   1995-12-15  262797249.0   104.0   \n",
       "2   1995-12-22          0.0   101.0   \n",
       "\n",
       "                                    spoken_languages    status  \\\n",
       "0           [{'iso_639_1': 'en', 'name': 'English'}]  Released   \n",
       "1  [{'iso_639_1': 'en', 'name': 'English'}, {'iso...  Released   \n",
       "2           [{'iso_639_1': 'en', 'name': 'English'}]  Released   \n",
       "\n",
       "                                             tagline             title  video  \\\n",
       "0                                                NaN         Toy Story  False   \n",
       "1          Roll the dice and unleash the excitement!           Jumanji  False   \n",
       "2  Still Yelling. Still Fighting. Still Ready for...  Grumpier Old Men  False   \n",
       "\n",
       "  vote_average vote_count  \n",
       "0          7.7     5415.0  \n",
       "1          6.9     2413.0  \n",
       "2          6.5       92.0  \n",
       "\n",
       "[3 rows x 24 columns]"
      ]
     },
     "execution_count": 4,
     "metadata": {},
     "output_type": "execute_result"
    }
   ],
   "source": [
    "# Print the first three rows to get idea about the data\n",
    "data.head(3)"
   ]
  },
  {
   "cell_type": "code",
   "execution_count": 5,
   "metadata": {},
   "outputs": [
    {
     "data": {
      "text/plain": [
       "0                          Toy Story\n",
       "1                            Jumanji\n",
       "2                   Grumpier Old Men\n",
       "3                  Waiting to Exhale\n",
       "4        Father of the Bride Part II\n",
       "                    ...             \n",
       "45461                         Subdue\n",
       "45462            Century of Birthing\n",
       "45463                       Betrayal\n",
       "45464               Satan Triumphant\n",
       "45465                       Queerama\n",
       "Name: title, Length: 45466, dtype: object"
      ]
     },
     "execution_count": 5,
     "metadata": {},
     "output_type": "execute_result"
    }
   ],
   "source": [
    "# See which movies are rated\n",
    "data['title']"
   ]
  },
  {
   "cell_type": "code",
   "execution_count": 6,
   "metadata": {},
   "outputs": [
    {
     "name": "stdout",
     "output_type": "stream",
     "text": [
      "<class 'pandas.core.frame.DataFrame'>\n",
      "RangeIndex: 45466 entries, 0 to 45465\n",
      "Data columns (total 24 columns):\n",
      " #   Column                 Non-Null Count  Dtype  \n",
      "---  ------                 --------------  -----  \n",
      " 0   adult                  45466 non-null  object \n",
      " 1   belongs_to_collection  4494 non-null   object \n",
      " 2   budget                 45466 non-null  object \n",
      " 3   genres                 45466 non-null  object \n",
      " 4   homepage               7782 non-null   object \n",
      " 5   id                     45466 non-null  object \n",
      " 6   imdb_id                45449 non-null  object \n",
      " 7   original_language      45455 non-null  object \n",
      " 8   original_title         45466 non-null  object \n",
      " 9   overview               44512 non-null  object \n",
      " 10  popularity             45461 non-null  object \n",
      " 11  poster_path            45080 non-null  object \n",
      " 12  production_companies   45463 non-null  object \n",
      " 13  production_countries   45463 non-null  object \n",
      " 14  release_date           45379 non-null  object \n",
      " 15  revenue                45460 non-null  float64\n",
      " 16  runtime                45203 non-null  float64\n",
      " 17  spoken_languages       45460 non-null  object \n",
      " 18  status                 45379 non-null  object \n",
      " 19  tagline                20412 non-null  object \n",
      " 20  title                  45460 non-null  object \n",
      " 21  video                  45460 non-null  object \n",
      " 22  vote_average           45460 non-null  float64\n",
      " 23  vote_count             45460 non-null  float64\n",
      "dtypes: float64(4), object(20)\n",
      "memory usage: 8.3+ MB\n"
     ]
    }
   ],
   "source": [
    "# see the columns and column types\n",
    "data.info()"
   ]
  },
  {
   "cell_type": "code",
   "execution_count": 7,
   "metadata": {},
   "outputs": [
    {
     "data": {
      "text/html": [
       "<div>\n",
       "<style scoped>\n",
       "    .dataframe tbody tr th:only-of-type {\n",
       "        vertical-align: middle;\n",
       "    }\n",
       "\n",
       "    .dataframe tbody tr th {\n",
       "        vertical-align: top;\n",
       "    }\n",
       "\n",
       "    .dataframe thead th {\n",
       "        text-align: right;\n",
       "    }\n",
       "</style>\n",
       "<table border=\"1\" class=\"dataframe\">\n",
       "  <thead>\n",
       "    <tr style=\"text-align: right;\">\n",
       "      <th></th>\n",
       "      <th>revenue</th>\n",
       "      <th>runtime</th>\n",
       "      <th>vote_average</th>\n",
       "      <th>vote_count</th>\n",
       "    </tr>\n",
       "  </thead>\n",
       "  <tbody>\n",
       "    <tr>\n",
       "      <th>count</th>\n",
       "      <td>4.546000e+04</td>\n",
       "      <td>45203.000000</td>\n",
       "      <td>45460.000000</td>\n",
       "      <td>45460.000000</td>\n",
       "    </tr>\n",
       "    <tr>\n",
       "      <th>mean</th>\n",
       "      <td>1.120935e+07</td>\n",
       "      <td>94.128199</td>\n",
       "      <td>5.618207</td>\n",
       "      <td>109.897338</td>\n",
       "    </tr>\n",
       "    <tr>\n",
       "      <th>std</th>\n",
       "      <td>6.433225e+07</td>\n",
       "      <td>38.407810</td>\n",
       "      <td>1.924216</td>\n",
       "      <td>491.310374</td>\n",
       "    </tr>\n",
       "    <tr>\n",
       "      <th>min</th>\n",
       "      <td>0.000000e+00</td>\n",
       "      <td>0.000000</td>\n",
       "      <td>0.000000</td>\n",
       "      <td>0.000000</td>\n",
       "    </tr>\n",
       "    <tr>\n",
       "      <th>25%</th>\n",
       "      <td>0.000000e+00</td>\n",
       "      <td>85.000000</td>\n",
       "      <td>5.000000</td>\n",
       "      <td>3.000000</td>\n",
       "    </tr>\n",
       "    <tr>\n",
       "      <th>50%</th>\n",
       "      <td>0.000000e+00</td>\n",
       "      <td>95.000000</td>\n",
       "      <td>6.000000</td>\n",
       "      <td>10.000000</td>\n",
       "    </tr>\n",
       "    <tr>\n",
       "      <th>75%</th>\n",
       "      <td>0.000000e+00</td>\n",
       "      <td>107.000000</td>\n",
       "      <td>6.800000</td>\n",
       "      <td>34.000000</td>\n",
       "    </tr>\n",
       "    <tr>\n",
       "      <th>max</th>\n",
       "      <td>2.787965e+09</td>\n",
       "      <td>1256.000000</td>\n",
       "      <td>10.000000</td>\n",
       "      <td>14075.000000</td>\n",
       "    </tr>\n",
       "  </tbody>\n",
       "</table>\n",
       "</div>"
      ],
      "text/plain": [
       "            revenue       runtime  vote_average    vote_count\n",
       "count  4.546000e+04  45203.000000  45460.000000  45460.000000\n",
       "mean   1.120935e+07     94.128199      5.618207    109.897338\n",
       "std    6.433225e+07     38.407810      1.924216    491.310374\n",
       "min    0.000000e+00      0.000000      0.000000      0.000000\n",
       "25%    0.000000e+00     85.000000      5.000000      3.000000\n",
       "50%    0.000000e+00     95.000000      6.000000     10.000000\n",
       "75%    0.000000e+00    107.000000      6.800000     34.000000\n",
       "max    2.787965e+09   1256.000000     10.000000  14075.000000"
      ]
     },
     "execution_count": 7,
     "metadata": {},
     "output_type": "execute_result"
    }
   ],
   "source": [
    "# Check the statistics of the numeric data\n",
    "data.describe()"
   ]
  },
  {
   "cell_type": "code",
   "execution_count": 8,
   "metadata": {},
   "outputs": [
    {
     "data": {
      "text/plain": [
       "<matplotlib.axes._subplots.AxesSubplot at 0x1481fc37288>"
      ]
     },
     "execution_count": 8,
     "metadata": {},
     "output_type": "execute_result"
    },
    {
     "data": {
      "image/png": "[encoded data removed]",
      "text/plain": [
       "<Figure size 432x288 with 1 Axes>"
      ]
     },
     "metadata": {
      "needs_background": "light"
     },
     "output_type": "display_data"
    }
   ],
   "source": [
    "# See the distribution of votes\n",
    "data['vote_count'].hist(bins=40)"
   ]
  },
  {
   "cell_type": "markdown",
   "metadata": {},
   "source": [
    "The histogram shows that most movies have few ratings. <br>Movies with most ratings are those that are most famous."
   ]
  },
  {
   "cell_type": "code",
   "execution_count": 9,
   "metadata": {},
   "outputs": [
    {
     "data": {
      "text/plain": [
       "<matplotlib.axes._subplots.AxesSubplot at 0x148211e7688>"
      ]
     },
     "execution_count": 9,
     "metadata": {},
     "output_type": "execute_result"
    },
    {
     "data": {
      "image/png": "[encoded data removed]",
      "text/plain": [
       "<Figure size 432x288 with 1 Axes>"
      ]
     },
     "metadata": {
      "needs_background": "light"
     },
     "output_type": "display_data"
    }
   ],
   "source": [
    "# See the distribution of the ratings\n",
    "data['vote_average'].hist(bins=30)"
   ]
  },
  {
   "cell_type": "markdown",
   "metadata": {},
   "source": [
    "The histogram shows that most of the movies are rated between 5 and 8"
   ]
  },
  {
   "cell_type": "code",
   "execution_count": 10,
   "metadata": {},
   "outputs": [
    {
     "data": {
      "text/plain": [
       "<seaborn.axisgrid.JointGrid at 0x14822b8fdc8>"
      ]
     },
     "execution_count": 10,
     "metadata": {},
     "output_type": "execute_result"
    },
    {
     "data": {
      "image/png": "[encoded data removed]",
      "text/plain": [
       "<Figure size 432x432 with 3 Axes>"
      ]
     },
     "metadata": {
      "needs_background": "light"
     },
     "output_type": "display_data"
    }
   ],
   "source": [
    "# Check the relationship between the rating of a movie and the number of ratings. \n",
    "# We do this by plotting a scatter plot using seaborn\n",
    "import seaborn as sb\n",
    "sb.jointplot(x=data['vote_average'], y=data['vote_count'], data=data)"
   ]
  },
  {
   "cell_type": "code",
   "execution_count": 11,
   "metadata": {},
   "outputs": [
    {
     "data": {
      "text/html": [
       "<div>\n",
       "<style scoped>\n",
       "    .dataframe tbody tr th:only-of-type {\n",
       "        vertical-align: middle;\n",
       "    }\n",
       "\n",
       "    .dataframe tbody tr th {\n",
       "        vertical-align: top;\n",
       "    }\n",
       "\n",
       "    .dataframe thead th {\n",
       "        text-align: right;\n",
       "    }\n",
       "</style>\n",
       "<table border=\"1\" class=\"dataframe\">\n",
       "  <thead>\n",
       "    <tr style=\"text-align: right;\">\n",
       "      <th></th>\n",
       "      <th>adult</th>\n",
       "      <th>belongs_to_collection</th>\n",
       "      <th>budget</th>\n",
       "      <th>genres</th>\n",
       "      <th>homepage</th>\n",
       "      <th>id</th>\n",
       "      <th>imdb_id</th>\n",
       "      <th>original_language</th>\n",
       "      <th>original_title</th>\n",
       "      <th>overview</th>\n",
       "      <th>...</th>\n",
       "      <th>release_date</th>\n",
       "      <th>revenue</th>\n",
       "      <th>runtime</th>\n",
       "      <th>spoken_languages</th>\n",
       "      <th>status</th>\n",
       "      <th>tagline</th>\n",
       "      <th>title</th>\n",
       "      <th>video</th>\n",
       "      <th>vote_average</th>\n",
       "      <th>vote_count</th>\n",
       "    </tr>\n",
       "  </thead>\n",
       "  <tbody>\n",
       "    <tr>\n",
       "      <th>21642</th>\n",
       "      <td>False</td>\n",
       "      <td>NaN</td>\n",
       "      <td>0</td>\n",
       "      <td>[{'id': 99, 'name': 'Documentary'}]</td>\n",
       "      <td>NaN</td>\n",
       "      <td>320849</td>\n",
       "      <td>tt0886500</td>\n",
       "      <td>en</td>\n",
       "      <td>Ice Age Columbus: Who Were the First Americans?</td>\n",
       "      <td>Firmly rooted in the latest scientific discove...</td>\n",
       "      <td>...</td>\n",
       "      <td>2005-01-01</td>\n",
       "      <td>0.0</td>\n",
       "      <td>0.0</td>\n",
       "      <td>[]</td>\n",
       "      <td>Released</td>\n",
       "      <td>NaN</td>\n",
       "      <td>Ice Age Columbus: Who Were the First Americans?</td>\n",
       "      <td>False</td>\n",
       "      <td>10.0</td>\n",
       "      <td>1.0</td>\n",
       "    </tr>\n",
       "    <tr>\n",
       "      <th>15710</th>\n",
       "      <td>False</td>\n",
       "      <td>NaN</td>\n",
       "      <td>0</td>\n",
       "      <td>[{'id': 99, 'name': 'Documentary'}]</td>\n",
       "      <td>NaN</td>\n",
       "      <td>96451</td>\n",
       "      <td>tt1587373</td>\n",
       "      <td>en</td>\n",
       "      <td>If God Is Willing and da Creek Don't Rise</td>\n",
       "      <td>In 2006, director Spike Lee created an astonis...</td>\n",
       "      <td>...</td>\n",
       "      <td>2010-08-23</td>\n",
       "      <td>0.0</td>\n",
       "      <td>255.0</td>\n",
       "      <td>[]</td>\n",
       "      <td>Released</td>\n",
       "      <td>NaN</td>\n",
       "      <td>If God Is Willing and da Creek Don't Rise</td>\n",
       "      <td>False</td>\n",
       "      <td>10.0</td>\n",
       "      <td>1.0</td>\n",
       "    </tr>\n",
       "    <tr>\n",
       "      <th>22396</th>\n",
       "      <td>False</td>\n",
       "      <td>NaN</td>\n",
       "      <td>0</td>\n",
       "      <td>[{'id': 99, 'name': 'Documentary'}]</td>\n",
       "      <td>NaN</td>\n",
       "      <td>72123</td>\n",
       "      <td>tt1341746</td>\n",
       "      <td>en</td>\n",
       "      <td>Meat the Truth</td>\n",
       "      <td>Meat the Truth is a high-profile documentary w...</td>\n",
       "      <td>...</td>\n",
       "      <td>2008-10-03</td>\n",
       "      <td>0.0</td>\n",
       "      <td>74.0</td>\n",
       "      <td>[{'iso_639_1': 'en', 'name': 'English'}]</td>\n",
       "      <td>Released</td>\n",
       "      <td>NaN</td>\n",
       "      <td>Meat the Truth</td>\n",
       "      <td>False</td>\n",
       "      <td>10.0</td>\n",
       "      <td>1.0</td>\n",
       "    </tr>\n",
       "    <tr>\n",
       "      <th>22395</th>\n",
       "      <td>False</td>\n",
       "      <td>NaN</td>\n",
       "      <td>0</td>\n",
       "      <td>[{'id': 99, 'name': 'Documentary'}]</td>\n",
       "      <td>http://www.marvinhamlischmovie.com/</td>\n",
       "      <td>230864</td>\n",
       "      <td>tt3011874</td>\n",
       "      <td>en</td>\n",
       "      <td>Marvin Hamlisch: What He Did For Love</td>\n",
       "      <td>When Marvin Hamlisch passed away in August 201...</td>\n",
       "      <td>...</td>\n",
       "      <td>2013-10-12</td>\n",
       "      <td>0.0</td>\n",
       "      <td>82.0</td>\n",
       "      <td>[{'iso_639_1': 'en', 'name': 'English'}]</td>\n",
       "      <td>Released</td>\n",
       "      <td>NaN</td>\n",
       "      <td>Marvin Hamlisch: What He Did For Love</td>\n",
       "      <td>False</td>\n",
       "      <td>10.0</td>\n",
       "      <td>1.0</td>\n",
       "    </tr>\n",
       "    <tr>\n",
       "      <th>35343</th>\n",
       "      <td>False</td>\n",
       "      <td>NaN</td>\n",
       "      <td>300000</td>\n",
       "      <td>[{'id': 35, 'name': 'Comedy'}, {'id': 99, 'nam...</td>\n",
       "      <td>NaN</td>\n",
       "      <td>140595</td>\n",
       "      <td>tt0308213</td>\n",
       "      <td>en</td>\n",
       "      <td>Elaine Stritch: At Liberty</td>\n",
       "      <td>Judy at the Palace. Sinatra at Carnegie Hall. ...</td>\n",
       "      <td>...</td>\n",
       "      <td>2002-01-01</td>\n",
       "      <td>0.0</td>\n",
       "      <td>140.0</td>\n",
       "      <td>[{'iso_639_1': 'en', 'name': 'English'}]</td>\n",
       "      <td>Released</td>\n",
       "      <td>Legendary performances come along so rarely.</td>\n",
       "      <td>Elaine Stritch: At Liberty</td>\n",
       "      <td>False</td>\n",
       "      <td>10.0</td>\n",
       "      <td>1.0</td>\n",
       "    </tr>\n",
       "    <tr>\n",
       "      <th>186</th>\n",
       "      <td>False</td>\n",
       "      <td>NaN</td>\n",
       "      <td>0</td>\n",
       "      <td>[{'id': 14, 'name': 'Fantasy'}, {'id': 35, 'na...</td>\n",
       "      <td>NaN</td>\n",
       "      <td>58372</td>\n",
       "      <td>tt0114241</td>\n",
       "      <td>en</td>\n",
       "      <td>Reckless</td>\n",
       "      <td>On Christmas eve, a relentlessly cheerful woma...</td>\n",
       "      <td>...</td>\n",
       "      <td>1995-11-17</td>\n",
       "      <td>0.0</td>\n",
       "      <td>91.0</td>\n",
       "      <td>[{'iso_639_1': 'en', 'name': 'English'}]</td>\n",
       "      <td>Released</td>\n",
       "      <td>The most twisted Christmas ever.</td>\n",
       "      <td>Reckless</td>\n",
       "      <td>False</td>\n",
       "      <td>10.0</td>\n",
       "      <td>1.0</td>\n",
       "    </tr>\n",
       "    <tr>\n",
       "      <th>45047</th>\n",
       "      <td>False</td>\n",
       "      <td>NaN</td>\n",
       "      <td>0</td>\n",
       "      <td>[{'id': 18, 'name': 'Drama'}]</td>\n",
       "      <td>NaN</td>\n",
       "      <td>405446</td>\n",
       "      <td>tt6041312</td>\n",
       "      <td>es</td>\n",
       "      <td>El auge del humano</td>\n",
       "      <td>Buenos Aires. Exe, 25 years old, has just lost...</td>\n",
       "      <td>...</td>\n",
       "      <td>2016-08-19</td>\n",
       "      <td>0.0</td>\n",
       "      <td>96.0</td>\n",
       "      <td>[{'iso_639_1': 'pt', 'name': 'Português'}, {'i...</td>\n",
       "      <td>Released</td>\n",
       "      <td>NaN</td>\n",
       "      <td>The Human Surge</td>\n",
       "      <td>False</td>\n",
       "      <td>10.0</td>\n",
       "      <td>1.0</td>\n",
       "    </tr>\n",
       "    <tr>\n",
       "      <th>22377</th>\n",
       "      <td>False</td>\n",
       "      <td>NaN</td>\n",
       "      <td>0</td>\n",
       "      <td>[{'id': 35, 'name': 'Comedy'}]</td>\n",
       "      <td>http://oxenagos.gr/?page_id=186</td>\n",
       "      <td>163795</td>\n",
       "      <td>tt1592530</td>\n",
       "      <td>en</td>\n",
       "      <td>Ο Ξεναγός</td>\n",
       "      <td>Nine frustrated young architects in an equally...</td>\n",
       "      <td>...</td>\n",
       "      <td>2011-04-27</td>\n",
       "      <td>0.0</td>\n",
       "      <td>94.0</td>\n",
       "      <td>[{'iso_639_1': 'en', 'name': 'English'}, {'iso...</td>\n",
       "      <td>Released</td>\n",
       "      <td>The guide is never part of the group</td>\n",
       "      <td>The Guide</td>\n",
       "      <td>False</td>\n",
       "      <td>10.0</td>\n",
       "      <td>1.0</td>\n",
       "    </tr>\n",
       "    <tr>\n",
       "      <th>22346</th>\n",
       "      <td>False</td>\n",
       "      <td>NaN</td>\n",
       "      <td>0</td>\n",
       "      <td>[{'id': 9648, 'name': 'Mystery'}, {'id': 80, '...</td>\n",
       "      <td>NaN</td>\n",
       "      <td>388182</td>\n",
       "      <td>tt2669832</td>\n",
       "      <td>fa</td>\n",
       "      <td>هیچ کجا هیچ کس</td>\n",
       "      <td>NaN</td>\n",
       "      <td>...</td>\n",
       "      <td>2013-08-07</td>\n",
       "      <td>0.0</td>\n",
       "      <td>NaN</td>\n",
       "      <td>[]</td>\n",
       "      <td>Released</td>\n",
       "      <td>NaN</td>\n",
       "      <td>هیچ کجا هیچ کس</td>\n",
       "      <td>False</td>\n",
       "      <td>10.0</td>\n",
       "      <td>1.0</td>\n",
       "    </tr>\n",
       "    <tr>\n",
       "      <th>1634</th>\n",
       "      <td>False</td>\n",
       "      <td>NaN</td>\n",
       "      <td>0</td>\n",
       "      <td>[{'id': 18, 'name': 'Drama'}]</td>\n",
       "      <td>NaN</td>\n",
       "      <td>64562</td>\n",
       "      <td>tt0119845</td>\n",
       "      <td>en</td>\n",
       "      <td>Other Voices Other Rooms</td>\n",
       "      <td>Truman Capote's semi-autobiographical first no...</td>\n",
       "      <td>...</td>\n",
       "      <td>1995-09-15</td>\n",
       "      <td>0.0</td>\n",
       "      <td>0.0</td>\n",
       "      <td>[]</td>\n",
       "      <td>Released</td>\n",
       "      <td>NaN</td>\n",
       "      <td>Other Voices Other Rooms</td>\n",
       "      <td>False</td>\n",
       "      <td>10.0</td>\n",
       "      <td>1.0</td>\n",
       "    </tr>\n",
       "  </tbody>\n",
       "</table>\n",
       "<p>10 rows × 24 columns</p>\n",
       "</div>"
      ],
      "text/plain": [
       "       adult belongs_to_collection  budget  \\\n",
       "21642  False                   NaN       0   \n",
       "15710  False                   NaN       0   \n",
       "22396  False                   NaN       0   \n",
       "22395  False                   NaN       0   \n",
       "35343  False                   NaN  300000   \n",
       "186    False                   NaN       0   \n",
       "45047  False                   NaN       0   \n",
       "22377  False                   NaN       0   \n",
       "22346  False                   NaN       0   \n",
       "1634   False                   NaN       0   \n",
       "\n",
       "                                                  genres  \\\n",
       "21642                [{'id': 99, 'name': 'Documentary'}]   \n",
       "15710                [{'id': 99, 'name': 'Documentary'}]   \n",
       "22396                [{'id': 99, 'name': 'Documentary'}]   \n",
       "22395                [{'id': 99, 'name': 'Documentary'}]   \n",
       "35343  [{'id': 35, 'name': 'Comedy'}, {'id': 99, 'nam...   \n",
       "186    [{'id': 14, 'name': 'Fantasy'}, {'id': 35, 'na...   \n",
       "45047                      [{'id': 18, 'name': 'Drama'}]   \n",
       "22377                     [{'id': 35, 'name': 'Comedy'}]   \n",
       "22346  [{'id': 9648, 'name': 'Mystery'}, {'id': 80, '...   \n",
       "1634                       [{'id': 18, 'name': 'Drama'}]   \n",
       "\n",
       "                                  homepage      id    imdb_id  \\\n",
       "21642                                  NaN  320849  tt0886500   \n",
       "15710                                  NaN   96451  tt1587373   \n",
       "22396                                  NaN   72123  tt1341746   \n",
       "22395  http://www.marvinhamlischmovie.com/  230864  tt3011874   \n",
       "35343                                  NaN  140595  tt0308213   \n",
       "186                                    NaN   58372  tt0114241   \n",
       "45047                                  NaN  405446  tt6041312   \n",
       "22377      http://oxenagos.gr/?page_id=186  163795  tt1592530   \n",
       "22346                                  NaN  388182  tt2669832   \n",
       "1634                                   NaN   64562  tt0119845   \n",
       "\n",
       "      original_language                                   original_title  \\\n",
       "21642                en  Ice Age Columbus: Who Were the First Americans?   \n",
       "15710                en        If God Is Willing and da Creek Don't Rise   \n",
       "22396                en                                   Meat the Truth   \n",
       "22395                en            Marvin Hamlisch: What He Did For Love   \n",
       "35343                en                       Elaine Stritch: At Liberty   \n",
       "186                  en                                         Reckless   \n",
       "45047                es                               El auge del humano   \n",
       "22377                en                                        Ο Ξεναγός   \n",
       "22346                fa                                   هیچ کجا هیچ کس   \n",
       "1634                 en                         Other Voices Other Rooms   \n",
       "\n",
       "                                                overview  ... release_date  \\\n",
       "21642  Firmly rooted in the latest scientific discove...  ...   2005-01-01   \n",
       "15710  In 2006, director Spike Lee created an astonis...  ...   2010-08-23   \n",
       "22396  Meat the Truth is a high-profile documentary w...  ...   2008-10-03   \n",
       "22395  When Marvin Hamlisch passed away in August 201...  ...   2013-10-12   \n",
       "35343  Judy at the Palace. Sinatra at Carnegie Hall. ...  ...   2002-01-01   \n",
       "186    On Christmas eve, a relentlessly cheerful woma...  ...   1995-11-17   \n",
       "45047  Buenos Aires. Exe, 25 years old, has just lost...  ...   2016-08-19   \n",
       "22377  Nine frustrated young architects in an equally...  ...   2011-04-27   \n",
       "22346                                                NaN  ...   2013-08-07   \n",
       "1634   Truman Capote's semi-autobiographical first no...  ...   1995-09-15   \n",
       "\n",
       "      revenue runtime                                   spoken_languages  \\\n",
       "21642     0.0     0.0                                                 []   \n",
       "15710     0.0   255.0                                                 []   \n",
       "22396     0.0    74.0           [{'iso_639_1': 'en', 'name': 'English'}]   \n",
       "22395     0.0    82.0           [{'iso_639_1': 'en', 'name': 'English'}]   \n",
       "35343     0.0   140.0           [{'iso_639_1': 'en', 'name': 'English'}]   \n",
       "186       0.0    91.0           [{'iso_639_1': 'en', 'name': 'English'}]   \n",
       "45047     0.0    96.0  [{'iso_639_1': 'pt', 'name': 'Português'}, {'i...   \n",
       "22377     0.0    94.0  [{'iso_639_1': 'en', 'name': 'English'}, {'iso...   \n",
       "22346     0.0     NaN                                                 []   \n",
       "1634      0.0     0.0                                                 []   \n",
       "\n",
       "         status                                       tagline  \\\n",
       "21642  Released                                           NaN   \n",
       "15710  Released                                           NaN   \n",
       "22396  Released                                           NaN   \n",
       "22395  Released                                           NaN   \n",
       "35343  Released  Legendary performances come along so rarely.   \n",
       "186    Released              The most twisted Christmas ever.   \n",
       "45047  Released                                           NaN   \n",
       "22377  Released          The guide is never part of the group   \n",
       "22346  Released                                           NaN   \n",
       "1634   Released                                           NaN   \n",
       "\n",
       "                                                 title  video vote_average  \\\n",
       "21642  Ice Age Columbus: Who Were the First Americans?  False         10.0   \n",
       "15710        If God Is Willing and da Creek Don't Rise  False         10.0   \n",
       "22396                                   Meat the Truth  False         10.0   \n",
       "22395            Marvin Hamlisch: What He Did For Love  False         10.0   \n",
       "35343                       Elaine Stritch: At Liberty  False         10.0   \n",
       "186                                           Reckless  False         10.0   \n",
       "45047                                  The Human Surge  False         10.0   \n",
       "22377                                        The Guide  False         10.0   \n",
       "22346                                   هیچ کجا هیچ کس  False         10.0   \n",
       "1634                          Other Voices Other Rooms  False         10.0   \n",
       "\n",
       "      vote_count  \n",
       "21642        1.0  \n",
       "15710        1.0  \n",
       "22396        1.0  \n",
       "22395        1.0  \n",
       "35343        1.0  \n",
       "186          1.0  \n",
       "45047        1.0  \n",
       "22377        1.0  \n",
       "22346        1.0  \n",
       "1634         1.0  \n",
       "\n",
       "[10 rows x 24 columns]"
      ]
     },
     "execution_count": 11,
     "metadata": {},
     "output_type": "execute_result"
    }
   ],
   "source": [
    "data.sort_values('vote_average', ascending=False).head(10)"
   ]
  },
  {
   "cell_type": "code",
   "execution_count": 12,
   "metadata": {},
   "outputs": [
    {
     "name": "stdout",
     "output_type": "stream",
     "text": [
      "160.0\n"
     ]
    }
   ],
   "source": [
    "# Exclude all rows, where there is no votes or the number of votes is below a specified minimum\n",
    "m = data['vote_count'].quantile(0.90)\n",
    "print(m)"
   ]
  },
  {
   "cell_type": "code",
   "execution_count": 13,
   "metadata": {},
   "outputs": [
    {
     "data": {
      "text/plain": [
       "(4555, 24)"
      ]
     },
     "execution_count": 13,
     "metadata": {},
     "output_type": "execute_result"
    }
   ],
   "source": [
    "# Make a copy and filter out the qualified movies into a new DataFrame\n",
    "q_movies = data.copy().loc[data['vote_count'] >= m]\n",
    "q_movies.shape"
   ]
  },
  {
   "cell_type": "code",
   "execution_count": 14,
   "metadata": {},
   "outputs": [
    {
     "data": {
      "text/plain": [
       "0        7.7\n",
       "1        6.9\n",
       "2        6.5\n",
       "3        6.1\n",
       "4        5.7\n",
       "        ... \n",
       "45461    4.0\n",
       "45462    9.0\n",
       "45463    3.8\n",
       "45464    0.0\n",
       "45465    0.0\n",
       "Name: vote_average, Length: 45466, dtype: float64"
      ]
     },
     "execution_count": 14,
     "metadata": {},
     "output_type": "execute_result"
    }
   ],
   "source": [
    "data['vote_average']"
   ]
  },
  {
   "cell_type": "code",
   "execution_count": 15,
   "metadata": {},
   "outputs": [
    {
     "name": "stdout",
     "output_type": "stream",
     "text": [
      "5.618207215133889\n"
     ]
    }
   ],
   "source": [
    "# Get the average value of all ratings in column 'vote_average'\n",
    "C = data['vote_average'].mean()\n",
    "print(C)"
   ]
  },
  {
   "cell_type": "markdown",
   "metadata": {},
   "source": [
    "Compute the <b>weighted average rating</b> of each movie as a new feature\n",
    "\n",
    "        WAR = v/(v+m)*R + m/(v+m)*C\n",
    "\n",
    "where<br>\n",
    "\n",
    "    R is the average Rating of this movie - votes_average<br>\n",
    "    C is the average vote across the whole report, Currently <br>\n",
    "    v is the number of votes for this movie - votes_count<br>\n",
    "    m is the minimum number of votes required for a movie to be listed in the chart<br>    \n",
    "    \n",
    "This is the IMDB formula for calculating the Top Rated 250 titles,  \n",
    "https://www.imdb.com/chart/top?ref_=nb_mv_3_chttp"
   ]
  },
  {
   "cell_type": "code",
   "execution_count": 16,
   "metadata": {},
   "outputs": [],
   "source": [
    "def war(x, m=m, c=C):\n",
    "    v = x['vote_count']\n",
    "    r = x['vote_average']\n",
    "    return (v/(v+m) * r) + (m/(m+v) * c)"
   ]
  },
  {
   "cell_type": "code",
   "execution_count": 17,
   "metadata": {},
   "outputs": [
    {
     "name": "stdout",
     "output_type": "stream",
     "text": [
      "0        7.640253\n",
      "1        6.820293\n",
      "4        5.660700\n",
      "5        7.537201\n",
      "8        5.556626\n",
      "           ...   \n",
      "45177    4.959104\n",
      "45204    6.671272\n",
      "45258    6.590372\n",
      "45265    6.344369\n",
      "45343    4.791783\n",
      "Name: score, Length: 4555, dtype: float64\n"
     ]
    }
   ],
   "source": [
    "# Define the new feature 'score'\n",
    "# Calculate its values for the qualified dataframe with war()\n",
    "q_movies['score'] = q_movies.apply(war, axis=1)\n",
    "print(q_movies['score'])"
   ]
  },
  {
   "cell_type": "code",
   "execution_count": 18,
   "metadata": {},
   "outputs": [
    {
     "data": {
      "text/html": [
       "<div>\n",
       "<style scoped>\n",
       "    .dataframe tbody tr th:only-of-type {\n",
       "        vertical-align: middle;\n",
       "    }\n",
       "\n",
       "    .dataframe tbody tr th {\n",
       "        vertical-align: top;\n",
       "    }\n",
       "\n",
       "    .dataframe thead th {\n",
       "        text-align: right;\n",
       "    }\n",
       "</style>\n",
       "<table border=\"1\" class=\"dataframe\">\n",
       "  <thead>\n",
       "    <tr style=\"text-align: right;\">\n",
       "      <th></th>\n",
       "      <th>title</th>\n",
       "      <th>vote_count</th>\n",
       "      <th>vote_average</th>\n",
       "      <th>score</th>\n",
       "    </tr>\n",
       "  </thead>\n",
       "  <tbody>\n",
       "    <tr>\n",
       "      <th>314</th>\n",
       "      <td>The Shawshank Redemption</td>\n",
       "      <td>8358.0</td>\n",
       "      <td>8.5</td>\n",
       "      <td>8.445869</td>\n",
       "    </tr>\n",
       "    <tr>\n",
       "      <th>834</th>\n",
       "      <td>The Godfather</td>\n",
       "      <td>6024.0</td>\n",
       "      <td>8.5</td>\n",
       "      <td>8.425439</td>\n",
       "    </tr>\n",
       "    <tr>\n",
       "      <th>10309</th>\n",
       "      <td>Dilwale Dulhania Le Jayenge</td>\n",
       "      <td>661.0</td>\n",
       "      <td>9.1</td>\n",
       "      <td>8.421453</td>\n",
       "    </tr>\n",
       "    <tr>\n",
       "      <th>12481</th>\n",
       "      <td>The Dark Knight</td>\n",
       "      <td>12269.0</td>\n",
       "      <td>8.3</td>\n",
       "      <td>8.265477</td>\n",
       "    </tr>\n",
       "    <tr>\n",
       "      <th>2843</th>\n",
       "      <td>Fight Club</td>\n",
       "      <td>9678.0</td>\n",
       "      <td>8.3</td>\n",
       "      <td>8.256385</td>\n",
       "    </tr>\n",
       "    <tr>\n",
       "      <th>292</th>\n",
       "      <td>Pulp Fiction</td>\n",
       "      <td>8670.0</td>\n",
       "      <td>8.3</td>\n",
       "      <td>8.251406</td>\n",
       "    </tr>\n",
       "    <tr>\n",
       "      <th>522</th>\n",
       "      <td>Schindler's List</td>\n",
       "      <td>4436.0</td>\n",
       "      <td>8.3</td>\n",
       "      <td>8.206639</td>\n",
       "    </tr>\n",
       "    <tr>\n",
       "      <th>23673</th>\n",
       "      <td>Whiplash</td>\n",
       "      <td>4376.0</td>\n",
       "      <td>8.3</td>\n",
       "      <td>8.205404</td>\n",
       "    </tr>\n",
       "    <tr>\n",
       "      <th>5481</th>\n",
       "      <td>Spirited Away</td>\n",
       "      <td>3968.0</td>\n",
       "      <td>8.3</td>\n",
       "      <td>8.196055</td>\n",
       "    </tr>\n",
       "    <tr>\n",
       "      <th>2211</th>\n",
       "      <td>Life Is Beautiful</td>\n",
       "      <td>3643.0</td>\n",
       "      <td>8.3</td>\n",
       "      <td>8.187171</td>\n",
       "    </tr>\n",
       "    <tr>\n",
       "      <th>1178</th>\n",
       "      <td>The Godfather: Part II</td>\n",
       "      <td>3418.0</td>\n",
       "      <td>8.3</td>\n",
       "      <td>8.180076</td>\n",
       "    </tr>\n",
       "    <tr>\n",
       "      <th>1152</th>\n",
       "      <td>One Flew Over the Cuckoo's Nest</td>\n",
       "      <td>3001.0</td>\n",
       "      <td>8.3</td>\n",
       "      <td>8.164256</td>\n",
       "    </tr>\n",
       "    <tr>\n",
       "      <th>351</th>\n",
       "      <td>Forrest Gump</td>\n",
       "      <td>8147.0</td>\n",
       "      <td>8.2</td>\n",
       "      <td>8.150272</td>\n",
       "    </tr>\n",
       "    <tr>\n",
       "      <th>1154</th>\n",
       "      <td>The Empire Strikes Back</td>\n",
       "      <td>5998.0</td>\n",
       "      <td>8.2</td>\n",
       "      <td>8.132919</td>\n",
       "    </tr>\n",
       "    <tr>\n",
       "      <th>1176</th>\n",
       "      <td>Psycho</td>\n",
       "      <td>2405.0</td>\n",
       "      <td>8.3</td>\n",
       "      <td>8.132715</td>\n",
       "    </tr>\n",
       "  </tbody>\n",
       "</table>\n",
       "</div>"
      ],
      "text/plain": [
       "                                 title  vote_count  vote_average     score\n",
       "314           The Shawshank Redemption      8358.0           8.5  8.445869\n",
       "834                      The Godfather      6024.0           8.5  8.425439\n",
       "10309      Dilwale Dulhania Le Jayenge       661.0           9.1  8.421453\n",
       "12481                  The Dark Knight     12269.0           8.3  8.265477\n",
       "2843                        Fight Club      9678.0           8.3  8.256385\n",
       "292                       Pulp Fiction      8670.0           8.3  8.251406\n",
       "522                   Schindler's List      4436.0           8.3  8.206639\n",
       "23673                         Whiplash      4376.0           8.3  8.205404\n",
       "5481                     Spirited Away      3968.0           8.3  8.196055\n",
       "2211                 Life Is Beautiful      3643.0           8.3  8.187171\n",
       "1178            The Godfather: Part II      3418.0           8.3  8.180076\n",
       "1152   One Flew Over the Cuckoo's Nest      3001.0           8.3  8.164256\n",
       "351                       Forrest Gump      8147.0           8.2  8.150272\n",
       "1154           The Empire Strikes Back      5998.0           8.2  8.132919\n",
       "1176                            Psycho      2405.0           8.3  8.132715"
      ]
     },
     "execution_count": 18,
     "metadata": {},
     "output_type": "execute_result"
    }
   ],
   "source": [
    "#Sort movies in the dataframe based on the scores calculated above\n",
    "q_movies = q_movies.sort_values('score', ascending=False)\n",
    "\n",
    "#Print the top 15 movies\n",
    "q_movies[['title', 'vote_count', 'vote_average', 'score']].head(15)"
   ]
  },
  {
   "cell_type": "markdown",
   "metadata": {},
   "source": [
    "## 2. Content-Based Recommender "
   ]
  },
  {
   "cell_type": "markdown",
   "metadata": {},
   "source": [
    "#### System that recommends movies similar to a particular movie"
   ]
  },
  {
   "cell_type": "code",
   "execution_count": 19,
   "metadata": {},
   "outputs": [
    {
     "data": {
      "text/plain": [
       "0    Led by Woody, Andy's toys live happily in his ...\n",
       "1    When siblings Judy and Peter discover an encha...\n",
       "2    A family wedding reignites the ancient feud be...\n",
       "3    Cheated on, mistreated and stepped on, the wom...\n",
       "4    Just when George Banks has recovered from his ...\n",
       "Name: overview, dtype: object"
      ]
     },
     "execution_count": 19,
     "metadata": {},
     "output_type": "execute_result"
    }
   ],
   "source": [
    "# Description of a movie stays in the field/feature called 'overview'\n",
    "# Print overviews of the first 5 movies to see the format\n",
    "data['overview'].head()\n",
    "\n",
    "#data['original_title'].head()\n",
    "#data['tagline'].head()"
   ]
  },
  {
   "cell_type": "markdown",
   "metadata": {},
   "source": [
    "Doc format above is unappropriate for comparisson, needs transformation\n",
    "\n",
    "We create word vector <b>Term Frequency-Inverse Document Frequency</b> (TF-IDF) for each overview.<br>\n",
    "TF-IDF score shows the frequency of a word occurring in a document, \n",
    "down-weighted by the number of documents in which it occurs\n",
    "\n",
    "For all documents, we create a matrix, where \n",
    "\n",
    "- each column represents one word in the overview vocabulary (all the words that appear in at least one document)\n",
    "- each row represents one movie"
   ]
  },
  {
   "cell_type": "code",
   "execution_count": 20,
   "metadata": {},
   "outputs": [],
   "source": [
    "# Import TfIdfVectorizer from scikit-learn\n",
    "from sklearn.feature_extraction.text import TfidfVectorizer"
   ]
  },
  {
   "cell_type": "markdown",
   "metadata": {},
   "source": [
    "### 2.1. Prepare the data"
   ]
  },
  {
   "cell_type": "code",
   "execution_count": 21,
   "metadata": {},
   "outputs": [],
   "source": [
    "# Define a TF-IDF Vectorizer Object, while removing all english stop words such as 'the', 'a', ...\n",
    "tfidf = TfidfVectorizer(stop_words='english')\n",
    "\n",
    "# Replace all NaN with an empty string\n",
    "data['overview'] = data['overview'].fillna('')\n",
    "data['original_title'] = data['original_title'].fillna('')\n",
    "data['tagline'] = data['tagline'].fillna('')\n",
    "\n",
    "# Construct the required TF-IDF matrix by fitting and transforming the data\n",
    "overview_tfidf_matrix = tfidf.fit_transform(data['overview'])\n",
    "original_title_tfidf_matrix = tfidf.fit_transform(data['original_title'])\n",
    "tagline_tfidf_matrix = tfidf.fit_transform(data['tagline'])\n",
    "\n",
    "# It takes some time"
   ]
  },
  {
   "cell_type": "code",
   "execution_count": 22,
   "metadata": {},
   "outputs": [
    {
     "name": "stdout",
     "output_type": "stream",
     "text": [
      "overview: (45466, 75827)\n",
      "original_title: (45466, 33695)\n",
      "tagline: (45466, 12654)\n"
     ]
    }
   ],
   "source": [
    "# Output the shape of tfidf_matrix\n",
    "print(f'overview: {overview_tfidf_matrix.shape}')\n",
    "print(f'original_title: {original_title_tfidf_matrix.shape}')\n",
    "print(f'tagline: {tagline_tfidf_matrix.shape}')"
   ]
  },
  {
   "cell_type": "code",
   "execution_count": 23,
   "metadata": {},
   "outputs": [],
   "source": [
    "# Compute a similarity score\n",
    "# We can implement either euclidean, Pearson, or cosine similarity scores\n",
    "\n",
    "# To use cosine score, import linear_kernel\n",
    "from sklearn.metrics.pairwise import linear_kernel"
   ]
  },
  {
   "cell_type": "code",
   "execution_count": 24,
   "metadata": {},
   "outputs": [],
   "source": [
    "# Compute the cosine similarity matrix for each vs each movie\n",
    "overview_cosine_sim = linear_kernel(overview_tfidf_matrix, overview_tfidf_matrix)"
   ]
  },
  {
   "cell_type": "code",
   "execution_count": 25,
   "metadata": {},
   "outputs": [],
   "source": [
    "original_title_sim = linear_kernel(original_title_tfidf_matrix, original_title_tfidf_matrix)"
   ]
  },
  {
   "cell_type": "code",
   "execution_count": 26,
   "metadata": {},
   "outputs": [],
   "source": [
    "tagline_sim = linear_kernel(tagline_tfidf_matrix, tagline_tfidf_matrix)"
   ]
  },
  {
   "cell_type": "code",
   "execution_count": 27,
   "metadata": {},
   "outputs": [
    {
     "name": "stdout",
     "output_type": "stream",
     "text": [
      "overview: [[1.         0.01504121 0.         ... 0.         0.00595453 0.        ]\n",
      " [0.01504121 1.         0.04681953 ... 0.         0.02198641 0.00929411]\n",
      " [0.         0.04681953 1.         ... 0.         0.01402548 0.        ]\n",
      " ...\n",
      " [0.         0.         0.         ... 1.         0.         0.        ]\n",
      " [0.00595453 0.02198641 0.01402548 ... 0.         1.         0.        ]\n",
      " [0.         0.00929411 0.         ... 0.         0.         1.        ]]\n",
      "original_title: [[1. 0. 0. ... 0. 0. 0.]\n",
      " [0. 1. 0. ... 0. 0. 0.]\n",
      " [0. 0. 1. ... 0. 0. 0.]\n",
      " ...\n",
      " [0. 0. 0. ... 1. 0. 0.]\n",
      " [0. 0. 0. ... 0. 1. 0.]\n",
      " [0. 0. 0. ... 0. 0. 1.]]\n",
      "tagline: [[0. 0. 0. ... 0. 0. 0.]\n",
      " [0. 1. 0. ... 0. 0. 0.]\n",
      " [0. 0. 1. ... 0. 0. 0.]\n",
      " ...\n",
      " [0. 0. 0. ... 1. 0. 0.]\n",
      " [0. 0. 0. ... 0. 0. 0.]\n",
      " [0. 0. 0. ... 0. 0. 0.]]\n"
     ]
    }
   ],
   "source": [
    "print(f'overview: {overview_cosine_sim}')\n",
    "print(f'original_title: {original_title_sim}')\n",
    "print(f'tagline: {tagline_sim}')"
   ]
  },
  {
   "cell_type": "code",
   "execution_count": 28,
   "metadata": {},
   "outputs": [],
   "source": [
    "# We need reverse mapping of movies and indices: to identify movie by index\n",
    "# Construct a reverse map of indices and movie titles\n",
    "indices = pd.Series(data.index, index=data['title']).drop_duplicates()"
   ]
  },
  {
   "cell_type": "code",
   "execution_count": 29,
   "metadata": {},
   "outputs": [
    {
     "name": "stdout",
     "output_type": "stream",
     "text": [
      "title\n",
      "Toy Story                          0\n",
      "Jumanji                            1\n",
      "Grumpier Old Men                   2\n",
      "Waiting to Exhale                  3\n",
      "Father of the Bride Part II        4\n",
      "                               ...  \n",
      "Subdue                         45461\n",
      "Century of Birthing            45462\n",
      "Betrayal                       45463\n",
      "Satan Triumphant               45464\n",
      "Queerama                       45465\n",
      "Length: 45466, dtype: int64\n"
     ]
    }
   ],
   "source": [
    "print(indices)"
   ]
  },
  {
   "cell_type": "markdown",
   "metadata": {},
   "source": [
    "### 2.2. Define a Function"
   ]
  },
  {
   "cell_type": "markdown",
   "metadata": {},
   "source": [
    "Define a function that takes in a movie __title__ as an input and outputs a list of the 10 most similar movies\n",
    "by identifying the __index__ of a movie in your metadata DataFrame, given its title\n",
    "1. Get the index of the movie given its title.\n",
    "2. Get the list of cosine similarity scores for that particular movie with all movies. Convert it into a list of tuples where the first element is its __position__ and the second is the similarity score.\n",
    "3. Sort the aforementioned list of tuples based on the __similarity scores__; that is, the second element.\n",
    "4. Get the top 10 elements of this list. Ignore the first element as it refers to self (the movie most similar        to a particular movie is the movie itself).\n",
    "5. Return the titles corresponding to the indices of the top elements.\n"
   ]
  },
  {
   "cell_type": "code",
   "execution_count": 31,
   "metadata": {},
   "outputs": [],
   "source": [
    "# Function that takes in movie title as input and outputs most similar movies\n",
    "def get_recommendations(title, cosine_sim):\n",
    "    # Get the index of the movie that matches the title\n",
    "    idx = indices[title]\n",
    "\n",
    "    # Get the pairwsie similarity scores of all movies with that movie\n",
    "    sim_scores = list(enumerate(cosine_sim[idx]))\n",
    "\n",
    "    # Sort the movies based on the similarity scores\n",
    "    sim_scores = sorted(sim_scores, key=lambda x: x[1], reverse=True)\n",
    "\n",
    "    # Get the scores of the 10 most similar movies, avoid the first\n",
    "    sim_scores = sim_scores[1:11]\n",
    "\n",
    "    # Get the movie indices\n",
    "    movie_indices = [i[0] for i in sim_scores]\n",
    "\n",
    "    # Return the top 10 most similar movies\n",
    "    return data['title'].iloc[movie_indices]"
   ]
  },
  {
   "cell_type": "markdown",
   "metadata": {},
   "source": [
    "### 2.3. Test the Recommender"
   ]
  },
  {
   "cell_type": "code",
   "execution_count": 32,
   "metadata": {},
   "outputs": [],
   "source": [
    "# Get_recommendations now doesn't have a default param, and should instead be fed with the desired sim\n",
    "# overview_cosine_sim\n",
    "# original_title_sim\n",
    "# tagline_sim"
   ]
  },
  {
   "cell_type": "code",
   "execution_count": 33,
   "metadata": {},
   "outputs": [
    {
     "data": {
      "text/plain": [
       "12481                                      The Dark Knight\n",
       "150                                         Batman Forever\n",
       "1328                                        Batman Returns\n",
       "15511                           Batman: Under the Red Hood\n",
       "585                                                 Batman\n",
       "21194    Batman Unmasked: The Psychology of the Dark Kn...\n",
       "9230                    Batman Beyond: Return of the Joker\n",
       "18035                                     Batman: Year One\n",
       "19792              Batman: The Dark Knight Returns, Part 1\n",
       "3095                          Batman: Mask of the Phantasm\n",
       "Name: title, dtype: object"
      ]
     },
     "execution_count": 33,
     "metadata": {},
     "output_type": "execute_result"
    }
   ],
   "source": [
    "get_recommendations('The Dark Knight Rises', overview_cosine_sim)"
   ]
  },
  {
   "cell_type": "code",
   "execution_count": 34,
   "metadata": {},
   "outputs": [
    {
     "data": {
      "text/plain": [
       "12481                            The Dark Knight\n",
       "28700                            The Dark Knight\n",
       "165                                 First Knight\n",
       "14618                         The Sun Also Rises\n",
       "19792    Batman: The Dark Knight Returns, Part 1\n",
       "20232    Batman: The Dark Knight Returns, Part 2\n",
       "15487                             Knight and Day\n",
       "4769                                Black Knight\n",
       "27243                           The Black Knight\n",
       "30492                      The Last White Knight\n",
       "Name: title, dtype: object"
      ]
     },
     "execution_count": 34,
     "metadata": {},
     "output_type": "execute_result"
    }
   ],
   "source": [
    "get_recommendations('The Dark Knight Rises', original_title_sim)"
   ]
  },
  {
   "cell_type": "code",
   "execution_count": 35,
   "metadata": {},
   "outputs": [
    {
     "data": {
      "text/plain": [
       "17437    Harry Potter and the Deathly Hallows: Part 2\n",
       "20968                           The Hangover Part III\n",
       "25835                                         Taken 3\n",
       "6760                   Captain Kronos: Vampire Hunter\n",
       "1994                                        Tall Tale\n",
       "3702                                      Coyote Ugly\n",
       "8244                                       Veer-Zaara\n",
       "22472                                           Diana\n",
       "20539                                          Stoker\n",
       "23772                                        Hercules\n",
       "Name: title, dtype: object"
      ]
     },
     "execution_count": 35,
     "metadata": {},
     "output_type": "execute_result"
    }
   ],
   "source": [
    "get_recommendations('The Dark Knight Rises', tagline_sim)"
   ]
  },
  {
   "cell_type": "code",
   "execution_count": 36,
   "metadata": {},
   "outputs": [
    {
     "data": {
      "text/plain": [
       "15808                            Kapo\n",
       "37401                 The bitter herb\n",
       "12446              The Counterfeiters\n",
       "27452         The Diary of Anne Frank\n",
       "33324               The Little Prince\n",
       "29651              The Biggest Battle\n",
       "25626                Out of the Ashes\n",
       "27234                     Johnny Cool\n",
       "21323              Forest of the Gods\n",
       "14849    The Secret of Santa Vittoria\n",
       "Name: title, dtype: object"
      ]
     },
     "execution_count": 36,
     "metadata": {},
     "output_type": "execute_result"
    }
   ],
   "source": [
    "get_recommendations('Life Is Beautiful', overview_cosine_sim)"
   ]
  },
  {
   "cell_type": "code",
   "execution_count": 37,
   "metadata": {},
   "outputs": [
    {
     "data": {
      "text/plain": [
       "41804                               Bella Vita\n",
       "12608                                    Bella\n",
       "30607    The Most Wonderful Evening of My Life\n",
       "7635                             La Dolce Vita\n",
       "28548                              That's Life\n",
       "17553                           La nostra vita\n",
       "31524                         La bella società\n",
       "31527                           La vita facile\n",
       "33601                         It's a Hard Life\n",
       "31539                    Una donna per la vita\n",
       "Name: title, dtype: object"
      ]
     },
     "execution_count": 37,
     "metadata": {},
     "output_type": "execute_result"
    }
   ],
   "source": [
    "get_recommendations('Life Is Beautiful', original_title_sim)"
   ]
  },
  {
   "cell_type": "code",
   "execution_count": 38,
   "metadata": {},
   "outputs": [
    {
     "data": {
      "text/plain": [
       "19279                        Tender Comrade\n",
       "8243                      Finding Neverland\n",
       "12074              Love and Other Disasters\n",
       "30287                              Erotikon\n",
       "2439                    My Boyfriend's Back\n",
       "30546                         Ardennes Fury\n",
       "41657                      Under the Sea 3D\n",
       "667                  The Run of the Country\n",
       "5754     The Island at the Top of the World\n",
       "87                              Black Sheep\n",
       "Name: title, dtype: object"
      ]
     },
     "execution_count": 38,
     "metadata": {},
     "output_type": "execute_result"
    }
   ],
   "source": [
    "get_recommendations('Life Is Beautiful', tagline_sim)"
   ]
  },
  {
   "cell_type": "code",
   "execution_count": 39,
   "metadata": {},
   "outputs": [
    {
     "data": {
      "text/plain": [
       "1327                         Star Trek IV: The Voyage Home\n",
       "1324                       Star Trek V: The Final Frontier\n",
       "1326                   Star Trek III: The Search for Spock\n",
       "32220    Mind Meld: Secrets Behind the Voyage of a Life...\n",
       "32130                                The Story of O Part 2\n",
       "40460                                For the Love of Spock\n",
       "6575                                            Paper Moon\n",
       "38309                                  Teen-Age Crime Wave\n",
       "9059                           Pumpkinhead II: Blood Wings\n",
       "34176                                    American Warships\n",
       "Name: title, dtype: object"
      ]
     },
     "execution_count": 39,
     "metadata": {},
     "output_type": "execute_result"
    }
   ],
   "source": [
    "get_recommendations('Star Trek', overview_cosine_sim)"
   ]
  },
  {
   "cell_type": "code",
   "execution_count": 40,
   "metadata": {},
   "outputs": [
    {
     "data": {
      "text/plain": [
       "30557                   Star Trek Beyond\n",
       "20922            Star Trek Into Darkness\n",
       "1308            Star Trek: First Contact\n",
       "5806                  Star Trek: Nemesis\n",
       "32618               Star Trek: Renegades\n",
       "324               Star Trek: Generations\n",
       "2280             Star Trek: Insurrection\n",
       "22223         Star Trek: Of Gods And Men\n",
       "1324     Star Trek V: The Final Frontier\n",
       "1322       Star Trek: The Motion Picture\n",
       "Name: title, dtype: object"
      ]
     },
     "execution_count": 40,
     "metadata": {},
     "output_type": "execute_result"
    }
   ],
   "source": [
    "get_recommendations('Star Trek', original_title_sim)"
   ]
  },
  {
   "cell_type": "code",
   "execution_count": 41,
   "metadata": {},
   "outputs": [
    {
     "data": {
      "text/plain": [
       "4066       Demetrius and the Gladiators\n",
       "1460                  The Fifth Element\n",
       "4916                           Impostor\n",
       "6976                     Things to Come\n",
       "36571                             Rakht\n",
       "7622                     Wonderful Days\n",
       "22221    An Adventure in Space and Time\n",
       "36229                         Space Cop\n",
       "25202                        Paddington\n",
       "28769                           The Boy\n",
       "Name: title, dtype: object"
      ]
     },
     "execution_count": 41,
     "metadata": {},
     "output_type": "execute_result"
    }
   ],
   "source": [
    "get_recommendations('Star Trek', tagline_sim)"
   ]
  },
  {
   "cell_type": "markdown",
   "metadata": {},
   "source": [
    "## Task\n",
    "Extend the code in a way to enable recommendation based on similarity of\n",
    "\n",
    "<li><ol>the original title of the movie</ol></li>\n",
    "<li><ol>the tagline</ol></li>\n",
    "\n",
    "Is the recommendation more relevant in these cases, than in the first case?"
   ]
  },
  {
   "cell_type": "code",
   "execution_count": null,
   "metadata": {},
   "outputs": [],
   "source": [
    "# See above."
   ]
  }
 ],
 "metadata": {
  "kernelspec": {
   "display_name": "Python 3",
   "language": "python",
   "name": "python3"
  },
  "language_info": {
   "codemirror_mode": {
    "name": "ipython",
    "version": 3
   },
   "file_extension": ".py",
   "mimetype": "text/x-python",
   "name": "python",
   "nbconvert_exporter": "python",
   "pygments_lexer": "ipython3",
   "version": "3.7.6"
  }
 },
 "nbformat": 4,
 "nbformat_minor": 2
}
